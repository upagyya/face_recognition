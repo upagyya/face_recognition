{
  "nbformat": 4,
  "nbformat_minor": 0,
  "metadata": {
    "colab": {
      "name": "face_recognition.ipynb",
      "provenance": [],
      "authorship_tag": "ABX9TyOgR2MuhZ39E+H4ROS2xCNH",
      "include_colab_link": true
    },
    "kernelspec": {
      "name": "python3",
      "display_name": "Python 3"
    },
    "accelerator": "GPU"
  },
  "cells": [
    {
      "cell_type": "markdown",
      "metadata": {
        "id": "view-in-github",
        "colab_type": "text"
      },
      "source": [
        "<a href=\"https://colab.research.google.com/github/upagyya/face_recognition/blob/main/face_recognition.ipynb\" target=\"_parent\"><img src=\"https://colab.research.google.com/assets/colab-badge.svg\" alt=\"Open In Colab\"/></a>"
      ]
    },
    {
      "cell_type": "code",
      "metadata": {
        "id": "m6aELoK1KQX5",
        "colab": {
          "base_uri": "https://localhost:8080/"
        },
        "outputId": "033b7372-f548-4f0c-d9cc-9337cd8c162c"
      },
      "source": [
        "!pip install face_recognition"
      ],
      "execution_count": 1,
      "outputs": [
        {
          "output_type": "stream",
          "text": [
            "Collecting face_recognition\n",
            "  Downloading https://files.pythonhosted.org/packages/1e/95/f6c9330f54ab07bfa032bf3715c12455a381083125d8880c43cbe76bb3d0/face_recognition-1.3.0-py2.py3-none-any.whl\n",
            "Collecting face-recognition-models>=0.3.0\n",
            "\u001b[?25l  Downloading https://files.pythonhosted.org/packages/cf/3b/4fd8c534f6c0d1b80ce0973d01331525538045084c73c153ee6df20224cf/face_recognition_models-0.3.0.tar.gz (100.1MB)\n",
            "\u001b[K     |████████████████████████████████| 100.2MB 105kB/s \n",
            "\u001b[?25hRequirement already satisfied: Click>=6.0 in /usr/local/lib/python3.7/dist-packages (from face_recognition) (7.1.2)\n",
            "Requirement already satisfied: Pillow in /usr/local/lib/python3.7/dist-packages (from face_recognition) (7.0.0)\n",
            "Requirement already satisfied: numpy in /usr/local/lib/python3.7/dist-packages (from face_recognition) (1.19.5)\n",
            "Requirement already satisfied: dlib>=19.7 in /usr/local/lib/python3.7/dist-packages (from face_recognition) (19.18.0)\n",
            "Building wheels for collected packages: face-recognition-models\n",
            "  Building wheel for face-recognition-models (setup.py) ... \u001b[?25l\u001b[?25hdone\n",
            "  Created wheel for face-recognition-models: filename=face_recognition_models-0.3.0-py2.py3-none-any.whl size=100566173 sha256=7d1c76e12f1b880caf4b991b90c8c6a06b19aa5046614bcad3a2323c8197945f\n",
            "  Stored in directory: /root/.cache/pip/wheels/d2/99/18/59c6c8f01e39810415c0e63f5bede7d83dfb0ffc039865465f\n",
            "Successfully built face-recognition-models\n",
            "Installing collected packages: face-recognition-models, face-recognition\n",
            "Successfully installed face-recognition-1.3.0 face-recognition-models-0.3.0\n"
          ],
          "name": "stdout"
        }
      ]
    },
    {
      "cell_type": "code",
      "metadata": {
        "colab": {
          "base_uri": "https://localhost:8080/"
        },
        "id": "nMTCTx7F6bSP",
        "outputId": "26868f84-f8d2-468c-d384-ef9ff5f0246b"
      },
      "source": [
        "!mkdir known\r\n",
        "!wget https://cdn.britannica.com/47/188747-050-1D34E743/Bill-Gates-2011.jpg -O known/bill.jpg \r\n",
        "!wget https://upload.wikimedia.org/wikipedia/commons/3/38/Barack_Obama_in_October_2016.jpg -O known/obama.jpg\r\n",
        "!wget https://upload.wikimedia.org/wikipedia/commons/e/ec/Elon_Musk_%283017880307%29.jpg -O known/elon.jpg"
      ],
      "execution_count": 4,
      "outputs": [
        {
          "output_type": "stream",
          "text": [
            "mkdir: cannot create directory ‘known’: File exists\n",
            "--2021-03-09 12:18:21--  https://cdn.britannica.com/47/188747-050-1D34E743/Bill-Gates-2011.jpg\n",
            "Resolving cdn.britannica.com (cdn.britannica.com)... 65.8.71.59, 65.8.71.117, 65.8.71.82, ...\n",
            "Connecting to cdn.britannica.com (cdn.britannica.com)|65.8.71.59|:443... connected.\n",
            "HTTP request sent, awaiting response... 200 OK\n",
            "Length: 138515 (135K) [image/jpeg]\n",
            "Saving to: ‘known/bill.jpg’\n",
            "\n",
            "known/bill.jpg      100%[===================>] 135.27K   819KB/s    in 0.2s    \n",
            "\n",
            "2021-03-09 12:18:21 (819 KB/s) - ‘known/bill.jpg’ saved [138515/138515]\n",
            "\n",
            "--2021-03-09 12:18:21--  https://upload.wikimedia.org/wikipedia/commons/3/38/Barack_Obama_in_October_2016.jpg\n",
            "Resolving upload.wikimedia.org (upload.wikimedia.org)... 198.35.26.112, 2620:0:863:ed1a::2:b\n",
            "Connecting to upload.wikimedia.org (upload.wikimedia.org)|198.35.26.112|:443... connected.\n",
            "HTTP request sent, awaiting response... 200 OK\n",
            "Length: 151815 (148K) [image/jpeg]\n",
            "Saving to: ‘known/obama.jpg’\n",
            "\n",
            "known/obama.jpg     100%[===================>] 148.26K  --.-KB/s    in 0.06s   \n",
            "\n",
            "2021-03-09 12:18:21 (2.24 MB/s) - ‘known/obama.jpg’ saved [151815/151815]\n",
            "\n",
            "--2021-03-09 12:18:21--  https://upload.wikimedia.org/wikipedia/commons/e/ec/Elon_Musk_%283017880307%29.jpg\n",
            "Resolving upload.wikimedia.org (upload.wikimedia.org)... 198.35.26.112, 2620:0:863:ed1a::2:b\n",
            "Connecting to upload.wikimedia.org (upload.wikimedia.org)|198.35.26.112|:443... connected.\n",
            "HTTP request sent, awaiting response... 200 OK\n",
            "Length: 424343 (414K) [image/jpeg]\n",
            "Saving to: ‘known/elon.jpg’\n",
            "\n",
            "known/elon.jpg      100%[===================>] 414.40K  --.-KB/s    in 0.1s    \n",
            "\n",
            "2021-03-09 12:18:22 (2.95 MB/s) - ‘known/elon.jpg’ saved [424343/424343]\n",
            "\n"
          ],
          "name": "stdout"
        }
      ]
    },
    {
      "cell_type": "code",
      "metadata": {
        "colab": {
          "base_uri": "https://localhost:8080/"
        },
        "id": "hRAZ7PKo8Ggt",
        "outputId": "a3f6f5f1-48a1-4c60-92f8-0ae07e727163"
      },
      "source": [
        "!mkdir unknownu\r\n",
        "!wget https://cdn.britannica.com/47/188747-050-1D34E743/Bill-Gates-2011.jpg -O known/1.jpg \r\n",
        "!wget https://upload.wikimedia.org/wikipedia/commons/3/38/Barack_Obama_in_October_2016.jpg -O known/2.jpg\r\n",
        "!wget https://upload.wikimedia.org/wikipedia/commons/e/ec/Elon_Musk_%283017880307%29.jpg -O known/3.jpg"
      ],
      "execution_count": 12,
      "outputs": [
        {
          "output_type": "stream",
          "text": [
            "mkdir: cannot create directory ‘unknownu’: File exists\n",
            "--2021-03-09 12:39:51--  https://cdn.britannica.com/47/188747-050-1D34E743/Bill-Gates-2011.jpg\n",
            "Resolving cdn.britannica.com (cdn.britannica.com)... 52.84.161.123, 52.84.161.32, 52.84.161.74, ...\n",
            "Connecting to cdn.britannica.com (cdn.britannica.com)|52.84.161.123|:443... connected.\n",
            "HTTP request sent, awaiting response... 200 OK\n",
            "Length: 138515 (135K) [image/jpeg]\n",
            "Saving to: ‘known/1.jpg’\n",
            "\n",
            "known/1.jpg         100%[===================>] 135.27K  --.-KB/s    in 0.02s   \n",
            "\n",
            "2021-03-09 12:39:51 (8.64 MB/s) - ‘known/1.jpg’ saved [138515/138515]\n",
            "\n",
            "--2021-03-09 12:39:51--  https://upload.wikimedia.org/wikipedia/commons/3/38/Barack_Obama_in_October_2016.jpg\n",
            "Resolving upload.wikimedia.org (upload.wikimedia.org)... 198.35.26.112, 2620:0:863:ed1a::2:b\n",
            "Connecting to upload.wikimedia.org (upload.wikimedia.org)|198.35.26.112|:443... connected.\n",
            "HTTP request sent, awaiting response... 200 OK\n",
            "Length: 151815 (148K) [image/jpeg]\n",
            "Saving to: ‘known/2.jpg’\n",
            "\n",
            "known/2.jpg         100%[===================>] 148.26K  --.-KB/s    in 0.06s   \n",
            "\n",
            "2021-03-09 12:39:51 (2.28 MB/s) - ‘known/2.jpg’ saved [151815/151815]\n",
            "\n",
            "--2021-03-09 12:39:51--  https://upload.wikimedia.org/wikipedia/commons/e/ec/Elon_Musk_%283017880307%29.jpg\n",
            "Resolving upload.wikimedia.org (upload.wikimedia.org)... 198.35.26.112, 2620:0:863:ed1a::2:b\n",
            "Connecting to upload.wikimedia.org (upload.wikimedia.org)|198.35.26.112|:443... connected.\n",
            "HTTP request sent, awaiting response... 200 OK\n",
            "Length: 424343 (414K) [image/jpeg]\n",
            "Saving to: ‘known/3.jpg’\n",
            "\n",
            "known/3.jpg         100%[===================>] 414.40K  --.-KB/s    in 0.09s   \n",
            "\n",
            "2021-03-09 12:39:51 (4.29 MB/s) - ‘known/3.jpg’ saved [424343/424343]\n",
            "\n"
          ],
          "name": "stdout"
        }
      ]
    },
    {
      "cell_type": "code",
      "metadata": {
        "colab": {
          "base_uri": "https://localhost:8080/"
        },
        "id": "5kV20p4s80Ew",
        "outputId": "b7cf1343-787f-4c09-971f-b9a6bf5017a3"
      },
      "source": [
        "import face_recognition\r\n",
        "import cv2\r\n",
        "import os\r\n",
        "from google.colab.patches import cv2_imshow\r\n",
        "\r\n",
        "def read_img(path):\r\n",
        "  img = cv2.imread(path)\r\n",
        "  (h, w) = img.shape[:2]\r\n",
        "  width = 500\r\n",
        "  ratio = width / float(w)\r\n",
        "  height = int(h * ratio)\r\n",
        "  return cv2.resize(img, (width, height))\r\n",
        "\r\n",
        "known_encodings = []\r\n",
        "known_names = []\r\n",
        "known_dir = 'known'\r\n",
        "\r\n",
        "for file in os.listdir(known_dir):\r\n",
        "    img = read_img(known_dir + '/' + file)\r\n",
        "    img_enc = face_recognition.face_encodings(img)[0]\r\n",
        "    known_encodings.append(img_enc)\r\n",
        "    known_names.append(file.split('.')[0])\r\n",
        "\r\n",
        "unknown_dir = 'unknownu'\r\n",
        "for file in os.listdir(unknown_dir):\r\n",
        "  print(\"processing\",file)\r\n",
        "  img = read_img(unknown_dir + '/' + file)\r\n",
        "  img_enc = face_recognition.face_encodings(img)[0]\r\n",
        "\r\n",
        "  results = face_recognition.compare_faces(known_encodings, img_enc)\r\n",
        "  \r\n",
        "  for i in range(len(results)):\r\n",
        "    if(results[i]):\r\n",
        "      print(known_names[i])\r\n",
        "  print(results)"
      ],
      "execution_count": 14,
      "outputs": [
        {
          "output_type": "stream",
          "text": [
            "processing img1.jpg\n",
            "3\n",
            "elon\n",
            "[False, True, False, False, True, False]\n",
            "processing img3.jpg\n",
            "bill\n",
            "1\n",
            "[False, False, True, False, False, True]\n",
            "processing img2.jpg\n",
            "obama\n",
            "2\n",
            "[True, False, False, True, False, False]\n"
          ],
          "name": "stdout"
        }
      ]
    }
  ]
}